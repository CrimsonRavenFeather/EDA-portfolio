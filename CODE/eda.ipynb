{
 "cells": [
  {
   "cell_type": "markdown",
   "metadata": {},
   "source": [
    "EDA (Exploratory Data Analysis)"
   ]
  },
  {
   "cell_type": "code",
   "execution_count": null,
   "metadata": {},
   "outputs": [],
   "source": [
    "import pandas as pd \n",
    "import numpy as np \n",
    "import matplotlib.pyplot as plt"
   ]
  },
  {
   "cell_type": "code",
   "execution_count": 3,
   "metadata": {},
   "outputs": [],
   "source": [
    "df = pd.read_csv(\"..\\DATA\\Global_Music_Streaming_Listener_Preferences.csv\")"
   ]
  },
  {
   "cell_type": "code",
   "execution_count": 4,
   "metadata": {},
   "outputs": [
    {
     "name": "stdout",
     "output_type": "stream",
     "text": [
      "<class 'pandas.core.frame.DataFrame'>\n",
      "RangeIndex: 5000 entries, 0 to 4999\n",
      "Data columns (total 12 columns):\n",
      " #   Column                                    Non-Null Count  Dtype  \n",
      "---  ------                                    --------------  -----  \n",
      " 0   User_ID                                   5000 non-null   object \n",
      " 1   Age                                       5000 non-null   int64  \n",
      " 2   Country                                   5000 non-null   object \n",
      " 3   Streaming Platform                        5000 non-null   object \n",
      " 4   Top Genre                                 5000 non-null   object \n",
      " 5   Minutes Streamed Per Day                  5000 non-null   int64  \n",
      " 6   Number of Songs Liked                     5000 non-null   int64  \n",
      " 7   Most Played Artist                        5000 non-null   object \n",
      " 8   Subscription Type                         5000 non-null   object \n",
      " 9   Listening Time (Morning/Afternoon/Night)  5000 non-null   object \n",
      " 10  Discover Weekly Engagement (%)            5000 non-null   float64\n",
      " 11  Repeat Song Rate (%)                      5000 non-null   float64\n",
      "dtypes: float64(2), int64(3), object(7)\n",
      "memory usage: 468.9+ KB\n"
     ]
    }
   ],
   "source": [
    "df.info()"
   ]
  },
  {
   "cell_type": "code",
   "execution_count": 5,
   "metadata": {},
   "outputs": [
    {
     "data": {
      "text/html": [
       "<div>\n",
       "<style scoped>\n",
       "    .dataframe tbody tr th:only-of-type {\n",
       "        vertical-align: middle;\n",
       "    }\n",
       "\n",
       "    .dataframe tbody tr th {\n",
       "        vertical-align: top;\n",
       "    }\n",
       "\n",
       "    .dataframe thead th {\n",
       "        text-align: right;\n",
       "    }\n",
       "</style>\n",
       "<table border=\"1\" class=\"dataframe\">\n",
       "  <thead>\n",
       "    <tr style=\"text-align: right;\">\n",
       "      <th></th>\n",
       "      <th>User_ID</th>\n",
       "      <th>Age</th>\n",
       "      <th>Country</th>\n",
       "      <th>Streaming Platform</th>\n",
       "      <th>Top Genre</th>\n",
       "      <th>Minutes Streamed Per Day</th>\n",
       "      <th>Number of Songs Liked</th>\n",
       "      <th>Most Played Artist</th>\n",
       "      <th>Subscription Type</th>\n",
       "      <th>Listening Time (Morning/Afternoon/Night)</th>\n",
       "      <th>Discover Weekly Engagement (%)</th>\n",
       "      <th>Repeat Song Rate (%)</th>\n",
       "    </tr>\n",
       "  </thead>\n",
       "  <tbody>\n",
       "    <tr>\n",
       "      <th>0</th>\n",
       "      <td>U1000</td>\n",
       "      <td>34</td>\n",
       "      <td>Japan</td>\n",
       "      <td>Tidal</td>\n",
       "      <td>Reggae</td>\n",
       "      <td>295</td>\n",
       "      <td>138</td>\n",
       "      <td>Adele</td>\n",
       "      <td>Free</td>\n",
       "      <td>Afternoon</td>\n",
       "      <td>47.42</td>\n",
       "      <td>16.74</td>\n",
       "    </tr>\n",
       "    <tr>\n",
       "      <th>1</th>\n",
       "      <td>U1001</td>\n",
       "      <td>24</td>\n",
       "      <td>Germany</td>\n",
       "      <td>Deezer</td>\n",
       "      <td>Country</td>\n",
       "      <td>86</td>\n",
       "      <td>388</td>\n",
       "      <td>Ed Sheeran</td>\n",
       "      <td>Premium</td>\n",
       "      <td>Night</td>\n",
       "      <td>12.06</td>\n",
       "      <td>69.25</td>\n",
       "    </tr>\n",
       "    <tr>\n",
       "      <th>2</th>\n",
       "      <td>U1002</td>\n",
       "      <td>49</td>\n",
       "      <td>Germany</td>\n",
       "      <td>Deezer</td>\n",
       "      <td>Pop</td>\n",
       "      <td>363</td>\n",
       "      <td>368</td>\n",
       "      <td>Post Malone</td>\n",
       "      <td>Premium</td>\n",
       "      <td>Afternoon</td>\n",
       "      <td>47.19</td>\n",
       "      <td>67.38</td>\n",
       "    </tr>\n",
       "    <tr>\n",
       "      <th>3</th>\n",
       "      <td>U1003</td>\n",
       "      <td>55</td>\n",
       "      <td>Australia</td>\n",
       "      <td>YouTube</td>\n",
       "      <td>Reggae</td>\n",
       "      <td>348</td>\n",
       "      <td>349</td>\n",
       "      <td>Dua Lipa</td>\n",
       "      <td>Premium</td>\n",
       "      <td>Morning</td>\n",
       "      <td>31.27</td>\n",
       "      <td>76.51</td>\n",
       "    </tr>\n",
       "    <tr>\n",
       "      <th>4</th>\n",
       "      <td>U1004</td>\n",
       "      <td>13</td>\n",
       "      <td>Germany</td>\n",
       "      <td>Amazon Music</td>\n",
       "      <td>Reggae</td>\n",
       "      <td>30</td>\n",
       "      <td>328</td>\n",
       "      <td>Adele</td>\n",
       "      <td>Free</td>\n",
       "      <td>Night</td>\n",
       "      <td>30.68</td>\n",
       "      <td>43.41</td>\n",
       "    </tr>\n",
       "  </tbody>\n",
       "</table>\n",
       "</div>"
      ],
      "text/plain": [
       "  User_ID  Age    Country Streaming Platform Top Genre  \\\n",
       "0   U1000   34      Japan              Tidal    Reggae   \n",
       "1   U1001   24    Germany             Deezer   Country   \n",
       "2   U1002   49    Germany             Deezer       Pop   \n",
       "3   U1003   55  Australia            YouTube    Reggae   \n",
       "4   U1004   13    Germany       Amazon Music    Reggae   \n",
       "\n",
       "   Minutes Streamed Per Day  Number of Songs Liked Most Played Artist  \\\n",
       "0                       295                    138              Adele   \n",
       "1                        86                    388         Ed Sheeran   \n",
       "2                       363                    368        Post Malone   \n",
       "3                       348                    349           Dua Lipa   \n",
       "4                        30                    328              Adele   \n",
       "\n",
       "  Subscription Type Listening Time (Morning/Afternoon/Night)  \\\n",
       "0              Free                                Afternoon   \n",
       "1           Premium                                    Night   \n",
       "2           Premium                                Afternoon   \n",
       "3           Premium                                  Morning   \n",
       "4              Free                                    Night   \n",
       "\n",
       "   Discover Weekly Engagement (%)  Repeat Song Rate (%)  \n",
       "0                           47.42                 16.74  \n",
       "1                           12.06                 69.25  \n",
       "2                           47.19                 67.38  \n",
       "3                           31.27                 76.51  \n",
       "4                           30.68                 43.41  "
      ]
     },
     "execution_count": 5,
     "metadata": {},
     "output_type": "execute_result"
    }
   ],
   "source": [
    "df.head(5)"
   ]
  },
  {
   "cell_type": "code",
   "execution_count": 6,
   "metadata": {},
   "outputs": [],
   "source": [
    "df = df.drop('User_ID',axis=1)"
   ]
  },
  {
   "cell_type": "code",
   "execution_count": 7,
   "metadata": {},
   "outputs": [
    {
     "data": {
      "text/plain": [
       "Index(['Age', 'Country', 'Streaming Platform', 'Top Genre',\n",
       "       'Minutes Streamed Per Day', 'Number of Songs Liked',\n",
       "       'Most Played Artist', 'Subscription Type',\n",
       "       'Listening Time (Morning/Afternoon/Night)',\n",
       "       'Discover Weekly Engagement (%)', 'Repeat Song Rate (%)'],\n",
       "      dtype='object')"
      ]
     },
     "execution_count": 7,
     "metadata": {},
     "output_type": "execute_result"
    }
   ],
   "source": [
    "df.columns"
   ]
  },
  {
   "cell_type": "code",
   "execution_count": 8,
   "metadata": {},
   "outputs": [],
   "source": [
    "new_col = {\n",
    "    'Listening Time (Morning/Afternoon/Night)' : 'Listening Time'\n",
    "    ,'Discover Weekly Engagement (%)' : \"Discover Weekly Engagement\", \n",
    "    'Repeat Song Rate (%)' : \"Repeat Song Rate\"\n",
    "}"
   ]
  },
  {
   "cell_type": "code",
   "execution_count": 9,
   "metadata": {},
   "outputs": [],
   "source": [
    "df.rename(columns=new_col,inplace=True)"
   ]
  },
  {
   "cell_type": "code",
   "execution_count": 10,
   "metadata": {},
   "outputs": [],
   "source": [
    "numeric_col = df.select_dtypes(include=['number']).columns"
   ]
  },
  {
   "cell_type": "code",
   "execution_count": 11,
   "metadata": {},
   "outputs": [
    {
     "data": {
      "text/plain": [
       "Index(['Age', 'Minutes Streamed Per Day', 'Number of Songs Liked',\n",
       "       'Discover Weekly Engagement', 'Repeat Song Rate'],\n",
       "      dtype='object')"
      ]
     },
     "execution_count": 11,
     "metadata": {},
     "output_type": "execute_result"
    }
   ],
   "source": [
    "numeric_col"
   ]
  },
  {
   "cell_type": "code",
   "execution_count": 12,
   "metadata": {},
   "outputs": [],
   "source": [
    "non_numeric_col = df.select_dtypes(exclude=['number']).columns"
   ]
  },
  {
   "cell_type": "code",
   "execution_count": 13,
   "metadata": {},
   "outputs": [
    {
     "data": {
      "text/plain": [
       "Index(['Country', 'Streaming Platform', 'Top Genre', 'Most Played Artist',\n",
       "       'Subscription Type', 'Listening Time'],\n",
       "      dtype='object')"
      ]
     },
     "execution_count": 13,
     "metadata": {},
     "output_type": "execute_result"
    }
   ],
   "source": [
    "non_numeric_col"
   ]
  },
  {
   "cell_type": "code",
   "execution_count": 14,
   "metadata": {},
   "outputs": [
    {
     "name": "stdout",
     "output_type": "stream",
     "text": [
      "Country\n",
      "['Japan' 'Germany' 'Australia' 'South Korea' 'UK' 'Brazil' 'Canada'\n",
      " 'India' 'USA' 'France']\n",
      "\n",
      "\n",
      "Streaming Platform\n",
      "['Tidal' 'Deezer' 'YouTube' 'Amazon Music' 'Spotify' 'Apple Music']\n",
      "\n",
      "\n",
      "Top Genre\n",
      "['Reggae' 'Country' 'Pop' 'EDM' 'Classical' 'Metal' 'Rock' 'Hip-Hop' 'R&B'\n",
      " 'Jazz']\n",
      "\n",
      "\n",
      "Most Played Artist\n",
      "['Adele' 'Ed Sheeran' 'Post Malone' 'Dua Lipa' 'The Weeknd'\n",
      " 'Billie Eilish' 'BTS' 'Taylor Swift' 'Drake' 'Bad Bunny']\n",
      "\n",
      "\n",
      "Subscription Type\n",
      "['Free' 'Premium']\n",
      "\n",
      "\n",
      "Listening Time\n",
      "['Afternoon' 'Night' 'Morning']\n",
      "\n",
      "\n"
     ]
    }
   ],
   "source": [
    "for col in non_numeric_col : \n",
    "    print(col)\n",
    "    print(df[col].unique())\n",
    "    print(\"\\n\")"
   ]
  },
  {
   "cell_type": "code",
   "execution_count": 15,
   "metadata": {},
   "outputs": [],
   "source": [
    "categorical_col = [\"Top Genre\",\"Subscription Type\",\"Listening Time\"]"
   ]
  },
  {
   "cell_type": "code",
   "execution_count": 16,
   "metadata": {},
   "outputs": [],
   "source": [
    "for col in categorical_col : \n",
    "    df[col + \" (encoded)\"] = pd.Categorical(df[col]).codes"
   ]
  },
  {
   "cell_type": "code",
   "execution_count": 17,
   "metadata": {},
   "outputs": [
    {
     "data": {
      "text/html": [
       "<div>\n",
       "<style scoped>\n",
       "    .dataframe tbody tr th:only-of-type {\n",
       "        vertical-align: middle;\n",
       "    }\n",
       "\n",
       "    .dataframe tbody tr th {\n",
       "        vertical-align: top;\n",
       "    }\n",
       "\n",
       "    .dataframe thead th {\n",
       "        text-align: right;\n",
       "    }\n",
       "</style>\n",
       "<table border=\"1\" class=\"dataframe\">\n",
       "  <thead>\n",
       "    <tr style=\"text-align: right;\">\n",
       "      <th></th>\n",
       "      <th>Age</th>\n",
       "      <th>Country</th>\n",
       "      <th>Streaming Platform</th>\n",
       "      <th>Top Genre</th>\n",
       "      <th>Minutes Streamed Per Day</th>\n",
       "      <th>Number of Songs Liked</th>\n",
       "      <th>Most Played Artist</th>\n",
       "      <th>Subscription Type</th>\n",
       "      <th>Listening Time</th>\n",
       "      <th>Discover Weekly Engagement</th>\n",
       "      <th>Repeat Song Rate</th>\n",
       "      <th>Top Genre (encoded)</th>\n",
       "      <th>Subscription Type (encoded)</th>\n",
       "      <th>Listening Time (encoded)</th>\n",
       "    </tr>\n",
       "  </thead>\n",
       "  <tbody>\n",
       "    <tr>\n",
       "      <th>0</th>\n",
       "      <td>34</td>\n",
       "      <td>Japan</td>\n",
       "      <td>Tidal</td>\n",
       "      <td>Reggae</td>\n",
       "      <td>295</td>\n",
       "      <td>138</td>\n",
       "      <td>Adele</td>\n",
       "      <td>Free</td>\n",
       "      <td>Afternoon</td>\n",
       "      <td>47.42</td>\n",
       "      <td>16.74</td>\n",
       "      <td>8</td>\n",
       "      <td>0</td>\n",
       "      <td>0</td>\n",
       "    </tr>\n",
       "    <tr>\n",
       "      <th>1</th>\n",
       "      <td>24</td>\n",
       "      <td>Germany</td>\n",
       "      <td>Deezer</td>\n",
       "      <td>Country</td>\n",
       "      <td>86</td>\n",
       "      <td>388</td>\n",
       "      <td>Ed Sheeran</td>\n",
       "      <td>Premium</td>\n",
       "      <td>Night</td>\n",
       "      <td>12.06</td>\n",
       "      <td>69.25</td>\n",
       "      <td>1</td>\n",
       "      <td>1</td>\n",
       "      <td>2</td>\n",
       "    </tr>\n",
       "    <tr>\n",
       "      <th>2</th>\n",
       "      <td>49</td>\n",
       "      <td>Germany</td>\n",
       "      <td>Deezer</td>\n",
       "      <td>Pop</td>\n",
       "      <td>363</td>\n",
       "      <td>368</td>\n",
       "      <td>Post Malone</td>\n",
       "      <td>Premium</td>\n",
       "      <td>Afternoon</td>\n",
       "      <td>47.19</td>\n",
       "      <td>67.38</td>\n",
       "      <td>6</td>\n",
       "      <td>1</td>\n",
       "      <td>0</td>\n",
       "    </tr>\n",
       "    <tr>\n",
       "      <th>3</th>\n",
       "      <td>55</td>\n",
       "      <td>Australia</td>\n",
       "      <td>YouTube</td>\n",
       "      <td>Reggae</td>\n",
       "      <td>348</td>\n",
       "      <td>349</td>\n",
       "      <td>Dua Lipa</td>\n",
       "      <td>Premium</td>\n",
       "      <td>Morning</td>\n",
       "      <td>31.27</td>\n",
       "      <td>76.51</td>\n",
       "      <td>8</td>\n",
       "      <td>1</td>\n",
       "      <td>1</td>\n",
       "    </tr>\n",
       "    <tr>\n",
       "      <th>4</th>\n",
       "      <td>13</td>\n",
       "      <td>Germany</td>\n",
       "      <td>Amazon Music</td>\n",
       "      <td>Reggae</td>\n",
       "      <td>30</td>\n",
       "      <td>328</td>\n",
       "      <td>Adele</td>\n",
       "      <td>Free</td>\n",
       "      <td>Night</td>\n",
       "      <td>30.68</td>\n",
       "      <td>43.41</td>\n",
       "      <td>8</td>\n",
       "      <td>0</td>\n",
       "      <td>2</td>\n",
       "    </tr>\n",
       "  </tbody>\n",
       "</table>\n",
       "</div>"
      ],
      "text/plain": [
       "   Age    Country Streaming Platform Top Genre  Minutes Streamed Per Day  \\\n",
       "0   34      Japan              Tidal    Reggae                       295   \n",
       "1   24    Germany             Deezer   Country                        86   \n",
       "2   49    Germany             Deezer       Pop                       363   \n",
       "3   55  Australia            YouTube    Reggae                       348   \n",
       "4   13    Germany       Amazon Music    Reggae                        30   \n",
       "\n",
       "   Number of Songs Liked Most Played Artist Subscription Type Listening Time  \\\n",
       "0                    138              Adele              Free      Afternoon   \n",
       "1                    388         Ed Sheeran           Premium          Night   \n",
       "2                    368        Post Malone           Premium      Afternoon   \n",
       "3                    349           Dua Lipa           Premium        Morning   \n",
       "4                    328              Adele              Free          Night   \n",
       "\n",
       "   Discover Weekly Engagement  Repeat Song Rate  Top Genre (encoded)  \\\n",
       "0                       47.42             16.74                    8   \n",
       "1                       12.06             69.25                    1   \n",
       "2                       47.19             67.38                    6   \n",
       "3                       31.27             76.51                    8   \n",
       "4                       30.68             43.41                    8   \n",
       "\n",
       "   Subscription Type (encoded)  Listening Time (encoded)  \n",
       "0                            0                         0  \n",
       "1                            1                         2  \n",
       "2                            1                         0  \n",
       "3                            1                         1  \n",
       "4                            0                         2  "
      ]
     },
     "execution_count": 17,
     "metadata": {},
     "output_type": "execute_result"
    }
   ],
   "source": [
    "df.head(5)"
   ]
  },
  {
   "cell_type": "code",
   "execution_count": 18,
   "metadata": {},
   "outputs": [
    {
     "name": "stdout",
     "output_type": "stream",
     "text": [
      "Top Genre\n",
      "{0: 'Classical', 1: 'Country', 2: 'EDM', 3: 'Hip-Hop', 4: 'Jazz', 5: 'Metal', 6: 'Pop', 7: 'R&B', 8: 'Reggae', 9: 'Rock'}\n",
      "\n",
      "\n",
      "Subscription Type\n",
      "{0: 'Free', 1: 'Premium'}\n",
      "\n",
      "\n",
      "Listening Time\n",
      "{0: 'Afternoon', 1: 'Morning', 2: 'Night'}\n",
      "\n",
      "\n"
     ]
    }
   ],
   "source": [
    "for col in categorical_col : \n",
    "    print(col)\n",
    "    print(dict(enumerate(pd.Categorical(df[col]).categories)))\n",
    "    print(\"\\n\")"
   ]
  },
  {
   "cell_type": "code",
   "execution_count": 19,
   "metadata": {},
   "outputs": [
    {
     "data": {
      "image/png": "[encoded data removed]",
      "text/plain": [
       "<Figure size 720x504 with 1 Axes>"
      ]
     },
     "metadata": {
      "needs_background": "light"
     },
     "output_type": "display_data"
    }
   ],
   "source": [
    "fig = plt.figure(figsize=(10, 7))\n",
    "box_plt =  plt.boxplot(df[numeric_col])"
   ]
  },
  {
   "cell_type": "markdown",
   "metadata": {},
   "source": [
    "#### Data Visualization"
   ]
  },
  {
   "cell_type": "code",
   "execution_count": 37,
   "metadata": {},
   "outputs": [
    {
     "data": {
      "image/png": "[encoded data removed]",
      "text/plain": [
       "<Figure size 720x576 with 1 Axes>"
      ]
     },
     "metadata": {
      "needs_background": "light"
     },
     "output_type": "display_data"
    }
   ],
   "source": [
    "plt.figure(figsize=(10,8))\n",
    "plt.hist(df[\"Top Genre\"],color='blue',edgecolor='black',rwidth=0.8)\n",
    "plt.title(\"Genre Histogram\")\n",
    "plt.xlabel(\"Genre\")\n",
    "plt.ylabel(\"No. of user\")\n",
    "plt.xticks(rotation=45)\n",
    "plt.show()"
   ]
  },
  {
   "cell_type": "code",
   "execution_count": 66,
   "metadata": {},
   "outputs": [
    {
     "data": {
      "image/png": "[encoded data removed]",
      "text/plain": [
       "<Figure size 720x576 with 1 Axes>"
      ]
     },
     "metadata": {},
     "output_type": "display_data"
    }
   ],
   "source": [
    "artist =  df['Most Played Artist'].value_counts().to_dict()\n",
    "plt.figure(figsize=(10,8))\n",
    "artist_name = list(artist.keys())\n",
    "artist_feq = list(artist.values())\n",
    "explode = np.random.uniform(low=0, high=0.2, size=len(artist))\n",
    "plt.pie(artist_feq,labels=artist_name,autopct=\"%0.01f%%\",shadow=True,explode=explode,textprops={\"fontsize\":10,\"color\":\"white\"},wedgeprops={\"linewidth\":1.5,\"edgecolor\":\"white\"})\n",
    "plt.show()"
   ]
  }
 ],
 "metadata": {
  "kernelspec": {
   "display_name": "base",
   "language": "python",
   "name": "python3"
  },
  "language_info": {
   "codemirror_mode": {
    "name": "ipython",
    "version": 3
   },
   "file_extension": ".py",
   "mimetype": "text/x-python",
   "name": "python",
   "nbconvert_exporter": "python",
   "pygments_lexer": "ipython3",
   "version": "3.9.7"
  }
 },
 "nbformat": 4,
 "nbformat_minor": 2
}
